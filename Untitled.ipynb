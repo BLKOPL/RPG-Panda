{
 "cells": [
  {
   "cell_type": "code",
   "execution_count": 1,
   "metadata": {},
   "outputs": [],
   "source": [
    "#dependencies\n",
    "import numpy as np\n",
    "import pandas as pd"
   ]
  },
  {
   "cell_type": "code",
   "execution_count": 2,
   "metadata": {},
   "outputs": [],
   "source": [
    "#file path\n",
    "file = \"Resources/purchase_data.json\""
   ]
  },
  {
   "cell_type": "code",
   "execution_count": 3,
   "metadata": {},
   "outputs": [
    {
     "data": {
      "text/html": [
       "<div>\n",
       "<style scoped>\n",
       "    .dataframe tbody tr th:only-of-type {\n",
       "        vertical-align: middle;\n",
       "    }\n",
       "\n",
       "    .dataframe tbody tr th {\n",
       "        vertical-align: top;\n",
       "    }\n",
       "\n",
       "    .dataframe thead th {\n",
       "        text-align: right;\n",
       "    }\n",
       "</style>\n",
       "<table border=\"1\" class=\"dataframe\">\n",
       "  <thead>\n",
       "    <tr style=\"text-align: right;\">\n",
       "      <th></th>\n",
       "      <th>Age</th>\n",
       "      <th>Gender</th>\n",
       "      <th>Item ID</th>\n",
       "      <th>Item Name</th>\n",
       "      <th>Price</th>\n",
       "      <th>SN</th>\n",
       "    </tr>\n",
       "  </thead>\n",
       "  <tbody>\n",
       "    <tr>\n",
       "      <th>0</th>\n",
       "      <td>38</td>\n",
       "      <td>Male</td>\n",
       "      <td>165</td>\n",
       "      <td>Bone Crushing Silver Skewer</td>\n",
       "      <td>3.37</td>\n",
       "      <td>Aelalis34</td>\n",
       "    </tr>\n",
       "    <tr>\n",
       "      <th>1</th>\n",
       "      <td>21</td>\n",
       "      <td>Male</td>\n",
       "      <td>119</td>\n",
       "      <td>Stormbringer, Dark Blade of Ending Misery</td>\n",
       "      <td>2.32</td>\n",
       "      <td>Eolo46</td>\n",
       "    </tr>\n",
       "    <tr>\n",
       "      <th>2</th>\n",
       "      <td>34</td>\n",
       "      <td>Male</td>\n",
       "      <td>174</td>\n",
       "      <td>Primitive Blade</td>\n",
       "      <td>2.46</td>\n",
       "      <td>Assastnya25</td>\n",
       "    </tr>\n",
       "    <tr>\n",
       "      <th>3</th>\n",
       "      <td>21</td>\n",
       "      <td>Male</td>\n",
       "      <td>92</td>\n",
       "      <td>Final Critic</td>\n",
       "      <td>1.36</td>\n",
       "      <td>Pheusrical25</td>\n",
       "    </tr>\n",
       "    <tr>\n",
       "      <th>4</th>\n",
       "      <td>23</td>\n",
       "      <td>Male</td>\n",
       "      <td>63</td>\n",
       "      <td>Stormfury Mace</td>\n",
       "      <td>1.27</td>\n",
       "      <td>Aela59</td>\n",
       "    </tr>\n",
       "  </tbody>\n",
       "</table>\n",
       "</div>"
      ],
      "text/plain": [
       "   Age Gender  Item ID                                  Item Name  Price  \\\n",
       "0   38   Male      165                Bone Crushing Silver Skewer   3.37   \n",
       "1   21   Male      119  Stormbringer, Dark Blade of Ending Misery   2.32   \n",
       "2   34   Male      174                            Primitive Blade   2.46   \n",
       "3   21   Male       92                               Final Critic   1.36   \n",
       "4   23   Male       63                             Stormfury Mace   1.27   \n",
       "\n",
       "             SN  \n",
       "0     Aelalis34  \n",
       "1        Eolo46  \n",
       "2   Assastnya25  \n",
       "3  Pheusrical25  \n",
       "4        Aela59  "
      ]
     },
     "execution_count": 3,
     "metadata": {},
     "output_type": "execute_result"
    }
   ],
   "source": [
    "#make a data frame with json data\n",
    "df = pd.read_json(file)\n",
    "df.head()"
   ]
  },
  {
   "cell_type": "code",
   "execution_count": 4,
   "metadata": {},
   "outputs": [
    {
     "data": {
      "text/html": [
       "<div>\n",
       "<style scoped>\n",
       "    .dataframe tbody tr th:only-of-type {\n",
       "        vertical-align: middle;\n",
       "    }\n",
       "\n",
       "    .dataframe tbody tr th {\n",
       "        vertical-align: top;\n",
       "    }\n",
       "\n",
       "    .dataframe thead th {\n",
       "        text-align: right;\n",
       "    }\n",
       "</style>\n",
       "<table border=\"1\" class=\"dataframe\">\n",
       "  <thead>\n",
       "    <tr style=\"text-align: right;\">\n",
       "      <th></th>\n",
       "      <th>Total Users</th>\n",
       "    </tr>\n",
       "  </thead>\n",
       "  <tbody>\n",
       "    <tr>\n",
       "      <th>0</th>\n",
       "      <td>573</td>\n",
       "    </tr>\n",
       "  </tbody>\n",
       "</table>\n",
       "</div>"
      ],
      "text/plain": [
       "   Total Users\n",
       "0          573"
      ]
     },
     "execution_count": 4,
     "metadata": {},
     "output_type": "execute_result"
    }
   ],
   "source": [
    "#count total users\n",
    "users = df[\"SN\"].nunique()\n",
    "#rename SN to total users\n",
    "total_users = pd.DataFrame({\"Total Users\": [users]}, columns=[\"Total Users\"])\n",
    "total_users"
   ]
  },
  {
   "cell_type": "code",
   "execution_count": 5,
   "metadata": {},
   "outputs": [
    {
     "data": {
      "text/html": [
       "<style  type=\"text/css\" >\n",
       "</style>  \n",
       "<table id=\"T_9ac57070_74ab_11e8_b531_5a0024898601\" > \n",
       "<thead>    <tr> \n",
       "        <th class=\"blank level0\" ></th> \n",
       "        <th class=\"col_heading level0 col0\" >Unique Items</th> \n",
       "        <th class=\"col_heading level0 col1\" >Total Sales</th> \n",
       "        <th class=\"col_heading level0 col2\" >Total Revenue</th> \n",
       "        <th class=\"col_heading level0 col3\" >Average Purchase Price</th> \n",
       "    </tr></thead> \n",
       "<tbody>    <tr> \n",
       "        <th id=\"T_9ac57070_74ab_11e8_b531_5a0024898601level0_row0\" class=\"row_heading level0 row0\" >0</th> \n",
       "        <td id=\"T_9ac57070_74ab_11e8_b531_5a0024898601row0_col0\" class=\"data row0 col0\" >183</td> \n",
       "        <td id=\"T_9ac57070_74ab_11e8_b531_5a0024898601row0_col1\" class=\"data row0 col1\" >780</td> \n",
       "        <td id=\"T_9ac57070_74ab_11e8_b531_5a0024898601row0_col2\" class=\"data row0 col2\" >$2286.33</td> \n",
       "        <td id=\"T_9ac57070_74ab_11e8_b531_5a0024898601row0_col3\" class=\"data row0 col3\" >$2.93</td> \n",
       "    </tr></tbody> \n",
       "</table> "
      ],
      "text/plain": [
       "<pandas.io.formats.style.Styler at 0x10cd9fc88>"
      ]
     },
     "execution_count": 5,
     "metadata": {},
     "output_type": "execute_result"
    }
   ],
   "source": [
    "#count UNIQUE items\n",
    "unique_items = df[\"Item ID\"].nunique()\n",
    "#count total sales\n",
    "total_sales = df[\"Price\"].count()\n",
    "#sum total revenue\n",
    "total_revenue = df[\"Price\"].sum()\n",
    "#get average item price\n",
    "avg_price = round(df[\"Price\"].mean(), 2)\n",
    "#summary analysis\n",
    "purchase_analysis = pd.DataFrame({\"Unique Items\": [unique_items],\n",
    "                                  \"Total Sales\": [total_sales],\n",
    "                                  \"Total Revenue\": [total_revenue],\n",
    "                                  \"Average Purchase Price\": [avg_price]},\n",
    "                                  columns= [\"Unique Items\", \"Total Sales\",\n",
    "                                  \"Total Revenue\", \"Average Purchase Price\"])\n",
    "purchase_analysis.style.format({\"Total Revenue\": \"${:.2f}\", \"Average Purchase Price\": \"${:.2f}\"})"
   ]
  },
  {
   "cell_type": "code",
   "execution_count": 10,
   "metadata": {},
   "outputs": [
    {
     "data": {
      "text/html": [
       "<style  type=\"text/css\" >\n",
       "</style>  \n",
       "<table id=\"T_e8c4f034_74ab_11e8_8bac_5a0024898601\" > \n",
       "<thead>    <tr> \n",
       "        <th class=\"blank level0\" ></th> \n",
       "        <th class=\"col_heading level0 col0\" >Player %</th> \n",
       "        <th class=\"col_heading level0 col1\" >Totals</th> \n",
       "    </tr>    <tr> \n",
       "        <th class=\"index_name level0\" >Gender</th> \n",
       "        <th class=\"blank\" ></th> \n",
       "        <th class=\"blank\" ></th> \n",
       "    </tr></thead> \n",
       "<tbody>    <tr> \n",
       "        <th id=\"T_e8c4f034_74ab_11e8_8bac_5a0024898601level0_row0\" class=\"row_heading level0 row0\" >Male</th> \n",
       "        <td id=\"T_e8c4f034_74ab_11e8_8bac_5a0024898601row0_col0\" class=\"data row0 col0\" >81.15%</td> \n",
       "        <td id=\"T_e8c4f034_74ab_11e8_8bac_5a0024898601row0_col1\" class=\"data row0 col1\" >465</td> \n",
       "    </tr>    <tr> \n",
       "        <th id=\"T_e8c4f034_74ab_11e8_8bac_5a0024898601level0_row1\" class=\"row_heading level0 row1\" >Female</th> \n",
       "        <td id=\"T_e8c4f034_74ab_11e8_8bac_5a0024898601row1_col0\" class=\"data row1 col0\" >17.45%</td> \n",
       "        <td id=\"T_e8c4f034_74ab_11e8_8bac_5a0024898601row1_col1\" class=\"data row1 col1\" >100</td> \n",
       "    </tr>    <tr> \n",
       "        <th id=\"T_e8c4f034_74ab_11e8_8bac_5a0024898601level0_row2\" class=\"row_heading level0 row2\" >Other / Non-Disclosed</th> \n",
       "        <td id=\"T_e8c4f034_74ab_11e8_8bac_5a0024898601row2_col0\" class=\"data row2 col0\" >1.40%</td> \n",
       "        <td id=\"T_e8c4f034_74ab_11e8_8bac_5a0024898601row2_col1\" class=\"data row2 col1\" >8</td> \n",
       "    </tr></tbody> \n",
       "</table> "
      ],
      "text/plain": [
       "<pandas.io.formats.style.Styler at 0x10805bb38>"
      ]
     },
     "execution_count": 10,
     "metadata": {},
     "output_type": "execute_result"
    }
   ],
   "source": [
    "#count males\n",
    "male_users = df[df[\"Gender\"] == \"Male\"][\"SN\"].nunique()\n",
    "#count females\n",
    "female_users = df[df[\"Gender\"] == \"Female\"][\"SN\"].nunique()\n",
    "#count enbies\n",
    "other_users = users - male_users - female_users\n",
    "#%male\n",
    "percent_male = ((male_users/users)*100)\n",
    "#%female\n",
    "percent_female = ((female_users/users)*100)\n",
    "#%enby\n",
    "percent_other = ((other_users/users)*100)\n",
    "#summary analysis\n",
    "gender_analysis = pd.DataFrame({\"Gender\": [\"Male\", \"Female\", \"Other / Non-Disclosed\"],\n",
    "                                \"Player %\": [percent_male, percent_female, percent_other],\n",
    "                                \"Totals\": [male_users, female_users, other_users]},\n",
    "                                columns= [\"Gender\", \"Player %\", \"Totals\"])\n",
    "#make gender the first column\n",
    "gender_analysis = gender_analysis.set_index(\"Gender\")\n",
    "#sdd percentage symbol\n",
    "gender_analysis.style.format({\"Player %\": \"{:.2f}%\"}) "
   ]
  },
  {
   "cell_type": "code",
   "execution_count": null,
   "metadata": {},
   "outputs": [],
   "source": []
  },
  {
   "cell_type": "code",
   "execution_count": null,
   "metadata": {},
   "outputs": [],
   "source": []
  },
  {
   "cell_type": "code",
   "execution_count": null,
   "metadata": {},
   "outputs": [],
   "source": []
  },
  {
   "cell_type": "code",
   "execution_count": null,
   "metadata": {},
   "outputs": [],
   "source": []
  },
  {
   "cell_type": "code",
   "execution_count": null,
   "metadata": {},
   "outputs": [],
   "source": []
  }
 ],
 "metadata": {
  "kernelspec": {
   "display_name": "Python 3",
   "language": "python",
   "name": "python3"
  },
  "language_info": {
   "codemirror_mode": {
    "name": "ipython",
    "version": 3
   },
   "file_extension": ".py",
   "mimetype": "text/x-python",
   "name": "python",
   "nbconvert_exporter": "python",
   "pygments_lexer": "ipython3",
   "version": "3.6.4"
  }
 },
 "nbformat": 4,
 "nbformat_minor": 2
}
